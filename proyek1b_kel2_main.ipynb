{
 "cells": [
  {
   "cell_type": "code",
   "execution_count": 2,
   "metadata": {
    "id": "Sb2g3V_gg6yq"
   },
   "outputs": [],
   "source": [
    "import pandas as pd\n",
    "import seaborn as sns\n",
    "import numpy as np\n",
    "import matplotlib.pyplot as plt"
   ]
  },
  {
   "cell_type": "code",
   "execution_count": 3,
   "metadata": {
    "id": "nx1o8mixg_S-"
   },
   "outputs": [],
   "source": [
    "data_raw = pd.read_csv('Dataset1B.csv')\n",
    "data = data_raw.drop(['average rating', 'growth (30 days)', 'growth (60 days)', 'price', 'category', '3 star ratings', 'paid'], axis=1)"
   ]
  },
  {
   "cell_type": "code",
   "execution_count": 4,
   "metadata": {},
   "outputs": [
    {
     "data": {
      "text/html": [
       "<div>\n",
       "<style scoped>\n",
       "    .dataframe tbody tr th:only-of-type {\n",
       "        vertical-align: middle;\n",
       "    }\n",
       "\n",
       "    .dataframe tbody tr th {\n",
       "        vertical-align: top;\n",
       "    }\n",
       "\n",
       "    .dataframe thead th {\n",
       "        text-align: right;\n",
       "    }\n",
       "</style>\n",
       "<table border=\"1\" class=\"dataframe\">\n",
       "  <thead>\n",
       "    <tr style=\"text-align: right;\">\n",
       "      <th></th>\n",
       "      <th>rank</th>\n",
       "      <th>title</th>\n",
       "      <th>total ratings</th>\n",
       "      <th>installs</th>\n",
       "      <th>5 star ratings</th>\n",
       "      <th>4 star ratings</th>\n",
       "      <th>2 star ratings</th>\n",
       "      <th>1 star ratings</th>\n",
       "    </tr>\n",
       "  </thead>\n",
       "  <tbody>\n",
       "    <tr>\n",
       "      <th>0</th>\n",
       "      <td>1</td>\n",
       "      <td>Garena Free Fire - The Cobra</td>\n",
       "      <td>80678661</td>\n",
       "      <td>500.0 M</td>\n",
       "      <td>61935712</td>\n",
       "      <td>4478738</td>\n",
       "      <td>1814999</td>\n",
       "      <td>9654037</td>\n",
       "    </tr>\n",
       "    <tr>\n",
       "      <th>1</th>\n",
       "      <td>2</td>\n",
       "      <td>PUBG MOBILE: Graffiti Prank</td>\n",
       "      <td>35971961</td>\n",
       "      <td>100.0 M</td>\n",
       "      <td>26670566</td>\n",
       "      <td>2109631</td>\n",
       "      <td>893674</td>\n",
       "      <td>4945478</td>\n",
       "    </tr>\n",
       "    <tr>\n",
       "      <th>2</th>\n",
       "      <td>3</td>\n",
       "      <td>Mobile Legends: Bang Bang</td>\n",
       "      <td>25836869</td>\n",
       "      <td>100.0 M</td>\n",
       "      <td>17850942</td>\n",
       "      <td>1796761</td>\n",
       "      <td>725429</td>\n",
       "      <td>4397640</td>\n",
       "    </tr>\n",
       "    <tr>\n",
       "      <th>3</th>\n",
       "      <td>4</td>\n",
       "      <td>Brawl Stars</td>\n",
       "      <td>17181659</td>\n",
       "      <td>100.0 M</td>\n",
       "      <td>12493668</td>\n",
       "      <td>1474319</td>\n",
       "      <td>383478</td>\n",
       "      <td>2088781</td>\n",
       "    </tr>\n",
       "    <tr>\n",
       "      <th>4</th>\n",
       "      <td>5</td>\n",
       "      <td>Sniper 3D: Fun Free Online FPS Shooting Game</td>\n",
       "      <td>14237554</td>\n",
       "      <td>100.0 M</td>\n",
       "      <td>9657878</td>\n",
       "      <td>2124544</td>\n",
       "      <td>375159</td>\n",
       "      <td>1045945</td>\n",
       "    </tr>\n",
       "  </tbody>\n",
       "</table>\n",
       "</div>"
      ],
      "text/plain": [
       "   rank                                         title  total ratings installs  \\\n",
       "0     1                  Garena Free Fire - The Cobra       80678661  500.0 M   \n",
       "1     2                   PUBG MOBILE: Graffiti Prank       35971961  100.0 M   \n",
       "2     3                     Mobile Legends: Bang Bang       25836869  100.0 M   \n",
       "3     4                                   Brawl Stars       17181659  100.0 M   \n",
       "4     5  Sniper 3D: Fun Free Online FPS Shooting Game       14237554  100.0 M   \n",
       "\n",
       "   5 star ratings  4 star ratings  2 star ratings  1 star ratings  \n",
       "0        61935712         4478738         1814999         9654037  \n",
       "1        26670566         2109631          893674         4945478  \n",
       "2        17850942         1796761          725429         4397640  \n",
       "3        12493668         1474319          383478         2088781  \n",
       "4         9657878         2124544          375159         1045945  "
      ]
     },
     "execution_count": 4,
     "metadata": {},
     "output_type": "execute_result"
    }
   ],
   "source": [
    "data.head()"
   ]
  },
  {
   "cell_type": "code",
   "execution_count": 5,
   "metadata": {
    "id": "wvfteWXMg_d6"
   },
   "outputs": [],
   "source": [
    "class ukuran:\n",
    "    \n",
    "    def __init__(self, dataset, column, interval):\n",
    "        self.dataset = dataset\n",
    "        self.data_col = dataset[column]\n",
    "        self.column = column\n",
    "        self.mean = self.data_col.mean()\n",
    "        self.median = self.data_col.median()\n",
    "        self.mode = interval_mode(self.data_col, interval)\n",
    "        self.std_dev = self.data_col.std()\n",
    "        self.var = self.std_dev ** 2\n",
    "        self.q1, self.q3 = np.percentile(self.data_col, [25, 75])\n",
    "        self.iqr = self.q3 - self.q1\n",
    "        self.outlier = outliers(self.data_col, self.q1, self.q3)\n",
    "        \n",
    "    def histogram(self, n_bins, log_base):\n",
    "        fig, ax = plt.subplots(figsize=(18, 9))\n",
    "        if log_base == 0:\n",
    "            plt.title(f\"Histogram {self.column} Linear Scale\")\n",
    "        else:\n",
    "            plt.title(f\"Histogram {self.column} (Log scale base{log_base})\")\n",
    "        plt.grid()\n",
    "        sns.histplot(self.data_col, ax=ax, bins=n_bins, log_scale=log_base)\n",
    "#         plt.savefig(f\"{self.column}_histogram_log{log_base}.png\")\n",
    "        \n",
    "    def relative_frequency_histogram(self):\n",
    "        weight = np.zeros_like(self.data_col.values) + 1. / self.data_col.size\n",
    "        fig, ax = plt.subplots()\n",
    "        plt.title(f\"Relative Frequency Histogram ({self.column})\")\n",
    "        plt.grid()\n",
    "        ax.hist(self.data_col, weights=weight )\n",
    "        ax.set_xlabel(self.column)\n",
    "        ax.set_ylabel('Relative Frequency')\n",
    "#         plt.savefig(f\"{self.column}_rf_histogram_.png\")\n",
    "    def boxplot(self, is_log):\n",
    "        if is_log:\n",
    "            fig, ax = plt.subplots(figsize=(30, 6))\n",
    "            ax.set_xscale(\"log\")\n",
    "            plt.title(f\"Boxplot {self.column} Log Scale\")\n",
    "            plt.grid()\n",
    "            sns.boxplot(x=self.data_col, ax=ax)\n",
    "#             plt.savefig(f\"{self.column}_boxplot_log.png\")\n",
    "        elif is_log is False:\n",
    "            fig, ax = plt.subplots(figsize=(30, 6))\n",
    "            plt.title(f\"Boxplot {self.column}\")\n",
    "            plt.grid()\n",
    "            sns.boxplot(x=self.data_col, ax=ax)\n",
    "#             plt.savefig(f\"{self.column}_boxplot_.png\")\n",
    "    def describe_all(self):\n",
    "        print(self.column)\n",
    "        print(f\"Rata - rata: {self.mean}\")\n",
    "        print(f\"Median: {self.median}\")\n",
    "        print(f\"Modus: {self.mode}\")\n",
    "        print(f\"Variansi: {self.var}\")\n",
    "        print(f\"Standar Deviasi: {self.std_dev}\")\n",
    "        print(f\"Kuartil 1: {self.q1}\")\n",
    "        print(f\"Kuartil 3: {self.q3}\")\n",
    "        print(f\"Jarak Interkuartil: {self.iqr}\")\n",
    "        print(f\"Pencilan:\\n Low Outlier: {self.outlier[0]}\\n\"\n",
    "              f\"{len(self.outlier[0])} data in low outlier\\n\"\n",
    "              f\"High Outlier: {self.outlier[1]}\\n\"\n",
    "              f\"{len(self.outlier[1])} in high outlier\")\n",
    "    def pertanyaan_a(self, bound):\n",
    "        installs_list = []\n",
    "        avg_n = 0\n",
    "        n = 0\n",
    "        if self.column != 'int installs':\n",
    "            print(\"pertanyaan A hanya untuk parameter installs!\")\n",
    "            return\n",
    "        for index, i in self.dataset.iterrows():\n",
    "            if i['int installs'] >= bound:\n",
    "                installs_list.append(i['int installs'])\n",
    "                avg_n += i['int installs']\n",
    "                n += 1\n",
    "        avg_target = avg_n / n\n",
    "        \n",
    "        if avg_target < self.mean:\n",
    "            return -1 * avg_target / self.mean\n",
    "        \n",
    "        elif avg_target > self.mean:\n",
    "            return avg_target / self.mean\n",
    "        \n",
    "    def pertanyaan_a_plot(self, end, n_datas, save, log_scale):\n",
    "        start = int(self.mean)\n",
    "        x_ax = np.linspace(start, end, n_datas)\n",
    "        x_ax_log = np.logspace(np.log10(installs.mean), np.log10(max(installs.data_col)), n_datas, base=10)\n",
    "        y_ax = []\n",
    "        for i in x_ax:\n",
    "            y_ax.append(self.pertanyaan_a(i))\n",
    "        plt.grid()\n",
    "        plt.title(f\"Plot Pertanyaan Diskusi A\\nNilai Keterpencilan\")\n",
    "        plt.xlabel(f\"Batas keterpencilan\")\n",
    "        plt.ylabel(f\"Nilai Keterpencilan\")\n",
    "        if log_scale:\n",
    "            plt.plot(x_ax_log, y_ax)\n",
    "        else:\n",
    "            plt.plot(x_ax, y_ax)\n",
    "        if save:\n",
    "            plt.savefig(f\"pertanyaan_a_plot.png\")\n",
    "    def pertanyaan_b(self):\n",
    "        if self.column != 'total ratings':\n",
    "            print('pertanyaan B hanya untuk parameter total ratings!')\n",
    "            return\n",
    "        number_of_indexes = len(self.data_col) / 1000\n",
    "        n_o_i = int(number_of_indexes)\n",
    "        upper_percentage = number_of_indexes - n_o_i\n",
    "        in_between = self.data_col[n_o_i - 1] - self.data_col[n_o_i]\n",
    "        print(f\"{self.data_col[n_o_i - 1]} - {self.data_col[n_o_i]}\")\n",
    "        print(f\"{self.data_col[n_o_i - 1]} - {upper_percentage} * {in_between}\")\n",
    "        bound = self.data_col[n_o_i - 1] - upper_percentage * in_between\n",
    "        print(n_o_i, self.data_col[0:n_o_i])\n",
    "        print(bound)"
   ]
  },
  {
   "cell_type": "code",
   "execution_count": 6,
   "metadata": {
    "id": "x_Rurw1Jg_hO",
    "tags": []
   },
   "outputs": [],
   "source": [
    "def install_to_int(install):\n",
    "    val = 0\n",
    "    if install[-1]=='M' or install[-1]=='m':\n",
    "        val = float(install[0:len(install)-1]) * 1e6\n",
    "    elif install[-1]=='K' or install[-1]=='k':\n",
    "        val = float(install[0:len(install)-1]) * 1e3\n",
    "    return int(val)\n",
    "\n",
    "def is_between(a, b, n):\n",
    "    if n >= a and n < b:\n",
    "        return True\n",
    "    return False\n",
    "\n",
    "\n",
    "def interval_mode(data_column, interval):\n",
    "    min_tr = min(data_column)\n",
    "    max_tr = max(data_column)\n",
    "    c = 0\n",
    "    m_c = []\n",
    "    while min_tr < max_tr:\n",
    "        for i in data_column:\n",
    "            next_bound = min_tr + interval\n",
    "            if is_between(min_tr, next_bound, i):\n",
    "                c+=1\n",
    "        m_c.append([min_tr, next_bound, c])\n",
    "        c = 0\n",
    "        min_tr += interval\n",
    "    cur_x = (0, 0, 0)\n",
    "    for x in m_c:\n",
    "        if x[2] > cur_x[2]:\n",
    "            cur_x = x\n",
    "#     print(f\"Modus pada interval {cur_x[0]} sampai {cur_x[1]}\\ndengan jumlah data {cur_x[2]}\")\n",
    "    return cur_x\n",
    "\n",
    "def outliers(data, q1, q3):\n",
    "    iqr = q3-q1\n",
    "    low_outlier = []\n",
    "    n_low_outlier = 0\n",
    "    high_outlier = []\n",
    "    n_high_outlier = 0\n",
    "    lower_bound = q1 - 1.5 * iqr\n",
    "    upper_bound = q3 + 1.5 * iqr\n",
    "    for i in data:\n",
    "        if i < lower_bound:\n",
    "            low_outlier.append(i)\n",
    "            n_low_outlier += 1\n",
    "        elif i > upper_bound:\n",
    "            high_outlier.append(i)\n",
    "            n_high_outlier += 1\n",
    "    return low_outlier, high_outlier"
   ]
  },
  {
   "cell_type": "code",
   "execution_count": 7,
   "metadata": {
    "id": "d08aINW2g_j3",
    "jupyter": {
     "source_hidden": true
    },
    "tags": []
   },
   "outputs": [],
   "source": [
    "great = []\n",
    "poor = []\n",
    "installs_int = []\n",
    "\n",
    "for game in range(len(data)):\n",
    "    great.append(data['5 star ratings'][game] + data['4 star ratings'][game])\n",
    "    poor.append(data['2 star ratings'][game] + data['1 star ratings'][game])\n",
    "    installs_int.append(install_to_int(data['installs'][game]))\n",
    "    \n",
    "data['great'] = great\n",
    "data['poor'] = poor\n",
    "data['int installs'] = installs_int"
   ]
  },
  {
   "cell_type": "code",
   "execution_count": 8,
   "metadata": {
    "id": "nBOQ9-Zhg_mU",
    "jupyter": {
     "source_hidden": true
    },
    "tags": []
   },
   "outputs": [],
   "source": [
    "rating_index = []\n",
    "tr_inst_index = []\n",
    "final_game_score = []\n",
    "\n",
    "for score in range(len(data)):\n",
    "    ri = data['great'][score] / data['poor'][score]\n",
    "    trii = data['total ratings'][score] * data['int installs'][score]\n",
    "    rating_index.append(ri)\n",
    "    tr_inst_index.append(trii)\n",
    "    final_game_score.append(trii * ri)\n",
    "\n",
    "data['rating index'] = rating_index\n",
    "data['total ratings and installs index'] = tr_inst_index\n",
    "data['final game score'] = final_game_score"
   ]
  },
  {
   "cell_type": "markdown",
   "metadata": {
    "id": "UkVNBXoRheeI"
   },
   "source": [
    "# Total Ratings"
   ]
  },
  {
   "cell_type": "code",
   "execution_count": 9,
   "metadata": {
    "colab": {
     "base_uri": "https://localhost:8080/"
    },
    "id": "843cCD6vhWza",
    "outputId": "f83b3fb5-3a6d-439a-fede-3e3df5a40326",
    "tags": []
   },
   "outputs": [
    {
     "name": "stdout",
     "output_type": "stream",
     "text": [
      "total ratings\n",
      "Rata - rata: 1101181.5410404624\n",
      "Median: 457675.0\n",
      "Modus: [38238, 138238, 311]\n",
      "Variansi: 10967611812693.422\n",
      "Standar Deviasi: 3311738.4879687317\n",
      "Kuartil 1: 187998.75\n",
      "Kuartil 3: 944334.25\n",
      "Jarak Interkuartil: 756335.5\n",
      "Pencilan:\n",
      " Low Outlier: []\n",
      "0 data in low outlier\n",
      "High Outlier: [80678661, 35971961, 25836869, 17181659, 14237554, 14048931, 13020115, 11298789, 9554877, 7392911, 6475640, 6203689, 5651287, 5245027, 4457338, 4456347, 4448938, 4443546, 4260419, 4193941, 4162892, 4097530, 4092418, 3986647, 3480214, 3138199, 3122764, 3095661, 3065898, 3009445, 2644544, 2548363, 2535575, 2454177, 2373080, 2360988, 2346568, 2251406, 2128244, 2080344, 20649769, 14401261, 4262608, 2554945, 2183778, 35305263, 7141044, 6894310, 5855907, 5683301, 5347039, 5324391, 4908222, 4744985, 4570599, 4509959, 3999232, 3380525, 3195259, 2871537, 2292938, 7048207, 2445882, 2418516, 2095571, 2563915, 30859251, 16715691, 12866276, 11955303, 11449723, 10647190, 10561106, 9950630, 9014495, 8202126, 8005959, 6886372, 5667376, 5482333, 4112331, 4073314, 3980631, 3465392, 3452778, 2963865, 2951211, 2899465, 2229993, 2108014, 2280709, 2246262, 4739196, 4312464, 3160720, 2902462, 2551759, 2495714, 2296724, 2139930, 10109437, 9501337, 7501902, 6618421, 6028847, 6001808, 4450952, 4434127, 4049586, 3871745, 3479061, 2943582, 2685255, 2489649, 2130809, 2106646, 3090015, 3058359, 3036543, 2865064, 2651402, 2627776, 2347273, 2290221, 8241702, 5518439, 5193030, 3541983, 3486810, 3401011, 3204434, 2726952, 2225296, 13374620, 7280320, 6779161, 6173868, 4566390, 2983855, 2926717, 2916874, 2877308, 2839251, 2637735, 2544608, 2369845, 2267369, 2221308, 55170976, 30599283, 6282716, 6043927, 5098445, 4977281, 3639955, 3586366, 3308917, 3109721, 2316309, 2102169, 7271580, 3989535, 2612778, 2314831, 2245883]\n",
      "165 in high outlier\n"
     ]
    }
   ],
   "source": [
    "total_ratings = ukuran(data, 'total ratings', 100_000)\n",
    "total_ratings.describe_all()"
   ]
  },
  {
   "cell_type": "code",
   "execution_count": 37,
   "metadata": {
    "colab": {
     "base_uri": "https://localhost:8080/",
     "height": 401
    },
    "collapsed": true,
    "id": "NbAD-M3Pbq2K",
    "jupyter": {
     "outputs_hidden": true,
     "source_hidden": true
    },
    "outputId": "cb8e5055-6811-4b6a-e3f4-903f782813b4",
    "tags": []
   },
   "outputs": [
    {
     "data": {
      "image/png": "[encoded data removed]",
      "text/plain": [
       "<Figure size 1296x648 with 1 Axes>"
      ]
     },
     "metadata": {
      "needs_background": "light"
     },
     "output_type": "display_data"
    }
   ],
   "source": [
    "total_ratings.histogram(100, 0)"
   ]
  },
  {
   "cell_type": "code",
   "execution_count": 38,
   "metadata": {
    "colab": {
     "base_uri": "https://localhost:8080/",
     "height": 295
    },
    "collapsed": true,
    "id": "3eS_qKUoZ3BU",
    "jupyter": {
     "outputs_hidden": true,
     "source_hidden": true
    },
    "outputId": "08afd69d-fbdb-4141-ef79-91de5cb53eff",
    "tags": []
   },
   "outputs": [
    {
     "data": {
      "image/png": "[encoded data removed]",
      "text/plain": [
       "<Figure size 432x288 with 1 Axes>"
      ]
     },
     "metadata": {
      "needs_background": "light"
     },
     "output_type": "display_data"
    }
   ],
   "source": [
    "total_ratings.relative_frequency_histogram()"
   ]
  },
  {
   "cell_type": "code",
   "execution_count": 39,
   "metadata": {
    "colab": {
     "base_uri": "https://localhost:8080/",
     "height": 409
    },
    "collapsed": true,
    "id": "8tEDfhlUhW2M",
    "jupyter": {
     "outputs_hidden": true,
     "source_hidden": true
    },
    "outputId": "19da0a4c-8078-4c82-bc65-036666d3281a",
    "tags": []
   },
   "outputs": [
    {
     "data": {
      "image/png": "[encoded data removed]",
      "text/plain": [
       "<Figure size 1296x648 with 1 Axes>"
      ]
     },
     "metadata": {
      "needs_background": "light"
     },
     "output_type": "display_data"
    }
   ],
   "source": [
    "total_ratings.histogram(100, 10)"
   ]
  },
  {
   "cell_type": "code",
   "execution_count": 40,
   "metadata": {
    "colab": {
     "base_uri": "https://localhost:8080/",
     "height": 189
    },
    "collapsed": true,
    "id": "OXywTCYHhW43",
    "jupyter": {
     "outputs_hidden": true,
     "source_hidden": true
    },
    "outputId": "d631f4bf-2760-426b-8993-8f9f8f69ec75",
    "tags": []
   },
   "outputs": [
    {
     "data": {
      "image/png": "[encoded data removed]",
      "text/plain": [
       "<Figure size 2160x432 with 1 Axes>"
      ]
     },
     "metadata": {
      "needs_background": "light"
     },
     "output_type": "display_data"
    }
   ],
   "source": [
    "total_ratings.boxplot(is_log=True)"
   ]
  },
  {
   "cell_type": "markdown",
   "metadata": {
    "id": "W60awhY7hloO",
    "jupyter": {
     "source_hidden": true
    },
    "tags": []
   },
   "source": [
    "# Installs"
   ]
  },
  {
   "cell_type": "code",
   "execution_count": 119,
   "metadata": {
    "colab": {
     "base_uri": "https://localhost:8080/"
    },
    "id": "OKbkR5N5hW7H",
    "outputId": "703f71a7-2051-4e66-9e09-3059d56c642c",
    "tags": []
   },
   "outputs": [
    {
     "name": "stdout",
     "output_type": "stream",
     "text": [
      "int installs\n",
      "Rata - rata: 28894624.27745665\n",
      "Median: 10000000.0\n",
      "Modus: [10000000, 10100000, 795]\n",
      "Variansi: 3375661341819422.0\n",
      "Standar Deviasi: 58100441.83841825\n",
      "Kuartil 1: 5000000.0\n",
      "Kuartil 3: 50000000.0\n",
      "Jarak Interkuartil: 45000000.0\n",
      "Pencilan:\n",
      " Low Outlier: []\n",
      "0 data in low outlier\n",
      "High Outlier: [500000000, 500000000, 1000000000, 500000000, 500000000, 1000000000, 500000000, 500000000, 500000000, 500000000, 500000000, 500000000]\n",
      "12 in high outlier\n"
     ]
    }
   ],
   "source": [
    "installs = ukuran(data, 'int installs', 100_000)\n",
    "installs.describe_all()"
   ]
  },
  {
   "cell_type": "code",
   "execution_count": 42,
   "metadata": {
    "colab": {
     "base_uri": "https://localhost:8080/",
     "height": 401
    },
    "collapsed": true,
    "id": "aJjeI0USbyJY",
    "jupyter": {
     "outputs_hidden": true,
     "source_hidden": true
    },
    "outputId": "1e8e8f7a-cf9e-4959-f9f9-000af20befd7",
    "tags": []
   },
   "outputs": [
    {
     "data": {
      "image/png": "[encoded data removed]",
      "text/plain": [
       "<Figure size 1296x648 with 1 Axes>"
      ]
     },
     "metadata": {
      "needs_background": "light"
     },
     "output_type": "display_data"
    }
   ],
   "source": [
    "installs.histogram(20, 0)"
   ]
  },
  {
   "cell_type": "code",
   "execution_count": 43,
   "metadata": {
    "colab": {
     "base_uri": "https://localhost:8080/",
     "height": 295
    },
    "collapsed": true,
    "id": "gpAfXbAWb0tQ",
    "jupyter": {
     "outputs_hidden": true,
     "source_hidden": true
    },
    "outputId": "aa8142e9-a1ed-49a7-a622-1499ed00a84e",
    "tags": []
   },
   "outputs": [
    {
     "data": {
      "image/png": "[encoded data removed]",
      "text/plain": [
       "<Figure size 432x288 with 1 Axes>"
      ]
     },
     "metadata": {
      "needs_background": "light"
     },
     "output_type": "display_data"
    }
   ],
   "source": [
    "installs.relative_frequency_histogram()"
   ]
  },
  {
   "cell_type": "code",
   "execution_count": 44,
   "metadata": {
    "colab": {
     "base_uri": "https://localhost:8080/",
     "height": 407
    },
    "collapsed": true,
    "id": "Uy11_Rxwhnoj",
    "jupyter": {
     "outputs_hidden": true,
     "source_hidden": true
    },
    "outputId": "b4f98d01-847b-4f1b-eda8-48dd46d745b5",
    "tags": []
   },
   "outputs": [
    {
     "data": {
      "image/png": "[encoded data removed]",
      "text/plain": [
       "<Figure size 1296x648 with 1 Axes>"
      ]
     },
     "metadata": {
      "needs_background": "light"
     },
     "output_type": "display_data"
    }
   ],
   "source": [
    "installs.histogram(20, 4)"
   ]
  },
  {
   "cell_type": "code",
   "execution_count": 45,
   "metadata": {
    "colab": {
     "base_uri": "https://localhost:8080/",
     "height": 189
    },
    "collapsed": true,
    "id": "8tfHmiwchnyu",
    "jupyter": {
     "outputs_hidden": true,
     "source_hidden": true
    },
    "outputId": "c0cf33bf-311c-4ba5-f733-dc9d32a791c6",
    "tags": []
   },
   "outputs": [
    {
     "data": {
      "image/png": "[encoded data removed]",
      "text/plain": [
       "<Figure size 2160x432 with 1 Axes>"
      ]
     },
     "metadata": {
      "needs_background": "light"
     },
     "output_type": "display_data"
    }
   ],
   "source": [
    "installs.boxplot(is_log=True)"
   ]
  },
  {
   "cell_type": "markdown",
   "metadata": {
    "id": "0BRM-b8Qhq1c",
    "jupyter": {
     "source_hidden": true
    },
    "tags": []
   },
   "source": [
    "# Great"
   ]
  },
  {
   "cell_type": "code",
   "execution_count": 65,
   "metadata": {
    "colab": {
     "base_uri": "https://localhost:8080/"
    },
    "id": "QOf1BEX9hryQ",
    "outputId": "fd5a15e4-6695-4374-c13b-2dcd70ec8046",
    "tags": []
   },
   "outputs": [
    {
     "name": "stdout",
     "output_type": "stream",
     "text": [
      "great\n",
      "Rata - rata: 910030.3271676301\n",
      "Median: 367617.0\n",
      "Modus: [36635, 46635, 52]\n",
      "Variansi: 7625611211070.817\n",
      "Standar Deviasi: 2761450.9249796234\n",
      "Kuartil 1: 157423.25\n",
      "Kuartil 3: 775977.75\n",
      "Jarak Interkuartil: 618554.5\n",
      "Pencilan:\n",
      " Low Outlier: []\n",
      "0 data in low outlier\n",
      "High Outlier: [66414450, 28780197, 19647703, 13967987, 11782422, 12494069, 11290251, 7200446, 7517492, 5725584, 4855113, 5064146, 4379880, 4634977, 3946762, 3953320, 3965560, 3427875, 3196860, 3085000, 3294348, 2931171, 3442542, 3393187, 2772997, 2373405, 2736532, 2463096, 2361474, 2511679, 2204042, 2028367, 2129965, 2117690, 1848210, 2059925, 2040474, 1801962, 1763160, 1783304, 17893894, 11030246, 3707022, 2053854, 1919805, 30217975, 5963316, 5580160, 4859040, 4891903, 4326487, 4755912, 4240565, 3553933, 3941182, 3697310, 3527760, 2753685, 2593165, 2281776, 1959850, 1820951, 5740539, 2225424, 1887573, 1747276, 2115772, 27650030, 13763012, 10106569, 10114868, 9211082, 8999071, 8878769, 8317818, 8187660, 6581178, 7132942, 5815159, 4717036, 4562811, 3616130, 3141993, 2956917, 3116895, 2814803, 2558838, 2624447, 2398515, 1762047, 1890985, 1850174, 1864527, 1718624, 3979608, 3661777, 2876256, 2611798, 2236735, 2259476, 2065242, 1756296, 8094416, 7803921, 6206977, 5490806, 5154755, 4736779, 3427079, 3985812, 3374084, 3117564, 2827416, 2330685, 2251884, 2189363, 1810387, 1746730, 2544453, 2788887, 2478654, 2101951, 2350796, 2076090, 2238663, 1868628, 7353634, 4066948, 4348793, 2857987, 3043619, 3069324, 2876208, 2334432, 1879730, 11521450, 5784711, 5324766, 4930552, 4211887, 2516202, 2626955, 2389737, 2508674, 2241788, 2191918, 2175717, 1859920, 2073341, 1779125, 48133718, 24484185, 5212327, 5201333, 4197452, 3882311, 3254103, 2901663, 2884678, 2617507, 1763530, 1867446, 5947371, 3628256, 2301279, 2131039, 2029536]\n",
      "167 in high outlier\n"
     ]
    }
   ],
   "source": [
    "great = ukuran(data, 'great', 10_000)\n",
    "great.describe_all()"
   ]
  },
  {
   "cell_type": "code",
   "execution_count": 47,
   "metadata": {
    "colab": {
     "base_uri": "https://localhost:8080/",
     "height": 401
    },
    "collapsed": true,
    "id": "BznIxOaNcK0z",
    "jupyter": {
     "outputs_hidden": true,
     "source_hidden": true
    },
    "outputId": "c5e198bd-1117-4ca2-f8a1-d23cffab3453",
    "tags": []
   },
   "outputs": [
    {
     "data": {
      "image/png": "[encoded data removed]",
      "text/plain": [
       "<Figure size 1296x648 with 1 Axes>"
      ]
     },
     "metadata": {
      "needs_background": "light"
     },
     "output_type": "display_data"
    }
   ],
   "source": [
    "great.histogram(100, 0)"
   ]
  },
  {
   "cell_type": "code",
   "execution_count": 48,
   "metadata": {
    "colab": {
     "base_uri": "https://localhost:8080/",
     "height": 295
    },
    "collapsed": true,
    "id": "W8w7DBDbcLA_",
    "jupyter": {
     "outputs_hidden": true,
     "source_hidden": true
    },
    "outputId": "cfbc612d-1a70-47a2-f44a-23339c99dbf4",
    "tags": []
   },
   "outputs": [
    {
     "data": {
      "image/png": "[encoded data removed]",
      "text/plain": [
       "<Figure size 432x288 with 1 Axes>"
      ]
     },
     "metadata": {
      "needs_background": "light"
     },
     "output_type": "display_data"
    }
   ],
   "source": [
    "great.relative_frequency_histogram()"
   ]
  },
  {
   "cell_type": "code",
   "execution_count": 49,
   "metadata": {
    "colab": {
     "base_uri": "https://localhost:8080/",
     "height": 409
    },
    "collapsed": true,
    "id": "-jDPeoOThuc1",
    "jupyter": {
     "outputs_hidden": true,
     "source_hidden": true
    },
    "outputId": "47181b16-1e60-4cd0-957a-06a67bc52a86",
    "tags": []
   },
   "outputs": [
    {
     "data": {
      "image/png": "[encoded data removed]",
      "text/plain": [
       "<Figure size 1296x648 with 1 Axes>"
      ]
     },
     "metadata": {
      "needs_background": "light"
     },
     "output_type": "display_data"
    }
   ],
   "source": [
    "great.histogram(100, 10)"
   ]
  },
  {
   "cell_type": "code",
   "execution_count": 50,
   "metadata": {
    "colab": {
     "base_uri": "https://localhost:8080/",
     "height": 189
    },
    "collapsed": true,
    "id": "-pyqRaDSh2kO",
    "jupyter": {
     "outputs_hidden": true,
     "source_hidden": true
    },
    "outputId": "0f37d055-1b3e-4046-93a2-515aa04cc237",
    "tags": []
   },
   "outputs": [
    {
     "data": {
      "image/png": "[encoded data removed]",
      "text/plain": [
       "<Figure size 2160x432 with 1 Axes>"
      ]
     },
     "metadata": {
      "needs_background": "light"
     },
     "output_type": "display_data"
    }
   ],
   "source": [
    "great.boxplot(is_log=True)"
   ]
  },
  {
   "cell_type": "markdown",
   "metadata": {
    "id": "U8ixtj45h4-P",
    "jupyter": {
     "source_hidden": true
    },
    "tags": []
   },
   "source": [
    "# Poor"
   ]
  },
  {
   "cell_type": "code",
   "execution_count": 66,
   "metadata": {
    "colab": {
     "base_uri": "https://localhost:8080/"
    },
    "id": "MjC50KFth6QM",
    "outputId": "907ff1d2-18fe-42a0-b277-4f46f6f2bf87",
    "tags": []
   },
   "outputs": [
    {
     "name": "stdout",
     "output_type": "stream",
     "text": [
      "poor\n",
      "Rata - rata: 131598.83468208092\n",
      "Median: 47221.5\n",
      "Modus: [815, 10815, 254]\n",
      "Variansi: 188561019782.99524\n",
      "Standar Deviasi: 434236.1336680715\n",
      "Kuartil 1: 18421.5\n",
      "Kuartil 3: 111270.0\n",
      "Jarak Interkuartil: 92848.5\n",
      "Pencilan:\n",
      " Low Outlier: []\n",
      "0 data in low outlier\n",
      "High Outlier: [11469036, 5839152, 5123069, 2472259, 1421104, 1106675, 1241568, 3327766, 1421838, 1323444, 1133710, 825629, 950220, 394038, 386659, 270082, 256367, 816975, 725006, 846609, 617454, 878189, 436567, 351063, 490957, 577219, 454238, 532931, 355622, 308835, 393287, 290933, 376162, 319463, 374377, 483294, 264361, 316285, 364035, 432614, 258980, 259929, 270735, 355164, 413241, 264756, 290663, 2002778, 2485779, 339100, 301621, 443965, 296202, 273317, 323318, 3468825, 774520, 885037, 652323, 474255, 666595, 353073, 398022, 872462, 372515, 524481, 332787, 426131, 451581, 301356, 332182, 415867, 388369, 268077, 317801, 264690, 311507, 948726, 453627, 271952, 650662, 501091, 337918, 1724367, 2106690, 2120498, 1238150, 1546876, 1109081, 1098838, 1057262, 400734, 1154933, 455090, 734842, 639870, 649458, 299094, 675596, 773301, 475368, 294564, 307669, 460634, 297068, 384305, 537822, 446871, 313715, 302727, 1416640, 1268077, 848286, 811433, 567019, 922371, 758145, 267108, 460734, 528990, 477711, 430255, 266122, 325945, 377951, 394783, 619701, 343144, 300911, 267944, 281779, 563159, 1071852, 498097, 377402, 263900, 282727, 261658, 1203847, 1106774, 991757, 918711, 303675, 371373, 430984, 290900, 371401, 324378, 265582, 340399, 295229, 4751892, 4461766, 715146, 520384, 621663, 832191, 514137, 278056, 405050, 257531, 442824, 262409, 872616]\n",
      "164 in high outlier\n"
     ]
    }
   ],
   "source": [
    "poor = ukuran(data, 'poor', 10_000)\n",
    "poor.describe_all()"
   ]
  },
  {
   "cell_type": "code",
   "execution_count": 52,
   "metadata": {
    "colab": {
     "base_uri": "https://localhost:8080/",
     "height": 400
    },
    "collapsed": true,
    "id": "b9J-RQCjcQqI",
    "jupyter": {
     "outputs_hidden": true,
     "source_hidden": true
    },
    "outputId": "e07c625c-4e0c-48d9-8c4e-d4fbab96a1b6",
    "tags": []
   },
   "outputs": [
    {
     "data": {
      "image/png": "[encoded data removed]",
      "text/plain": [
       "<Figure size 1296x648 with 1 Axes>"
      ]
     },
     "metadata": {
      "needs_background": "light"
     },
     "output_type": "display_data"
    }
   ],
   "source": [
    "poor.histogram(100, 0)"
   ]
  },
  {
   "cell_type": "code",
   "execution_count": 53,
   "metadata": {
    "colab": {
     "base_uri": "https://localhost:8080/",
     "height": 295
    },
    "collapsed": true,
    "id": "ZsTemOh2cVIx",
    "jupyter": {
     "outputs_hidden": true,
     "source_hidden": true
    },
    "outputId": "8ef77150-505c-4d5a-ca0d-57c1d5b68c68",
    "tags": []
   },
   "outputs": [
    {
     "data": {
      "image/png": "[encoded data removed]",
      "text/plain": [
       "<Figure size 432x288 with 1 Axes>"
      ]
     },
     "metadata": {
      "needs_background": "light"
     },
     "output_type": "display_data"
    }
   ],
   "source": [
    "poor.relative_frequency_histogram()"
   ]
  },
  {
   "cell_type": "code",
   "execution_count": 54,
   "metadata": {
    "colab": {
     "base_uri": "https://localhost:8080/",
     "height": 409
    },
    "collapsed": true,
    "id": "DiTMV6Qhh88D",
    "jupyter": {
     "outputs_hidden": true,
     "source_hidden": true
    },
    "outputId": "06962585-5d5a-43c3-90f9-244c6dd11da7",
    "tags": []
   },
   "outputs": [
    {
     "data": {
      "image/png": "[encoded data removed]",
      "text/plain": [
       "<Figure size 1296x648 with 1 Axes>"
      ]
     },
     "metadata": {
      "needs_background": "light"
     },
     "output_type": "display_data"
    }
   ],
   "source": [
    "poor.histogram(100, 10)"
   ]
  },
  {
   "cell_type": "code",
   "execution_count": 55,
   "metadata": {
    "colab": {
     "base_uri": "https://localhost:8080/",
     "height": 189
    },
    "collapsed": true,
    "id": "Q08v6d9fiHw2",
    "jupyter": {
     "outputs_hidden": true,
     "source_hidden": true
    },
    "outputId": "8e75fa08-392b-440b-deed-c6d1930091f8",
    "tags": []
   },
   "outputs": [
    {
     "data": {
      "image/png": "[encoded data removed]",
      "text/plain": [
       "<Figure size 2160x432 with 1 Axes>"
      ]
     },
     "metadata": {
      "needs_background": "light"
     },
     "output_type": "display_data"
    }
   ],
   "source": [
    "poor.boxplot(is_log=True)"
   ]
  },
  {
   "cell_type": "markdown",
   "metadata": {},
   "source": [
    "### Pertanyaan Diskusi A"
   ]
  },
  {
   "cell_type": "code",
   "execution_count": 121,
   "metadata": {
    "id": "BZQqz3Hgccwc"
   },
   "outputs": [
    {
     "data": {
      "text/plain": [
       "20.188299655048475"
      ]
     },
     "execution_count": 121,
     "metadata": {},
     "output_type": "execute_result"
    }
   ],
   "source": [
    "installs.pertanyaan_a(100_000_000 + 1)"
   ]
  },
  {
   "cell_type": "code",
   "execution_count": 122,
   "metadata": {},
   "outputs": [
    {
     "data": {
      "image/png": "[encoded data removed]",
      "text/plain": [
       "<Figure size 432x288 with 1 Axes>"
      ]
     },
     "metadata": {
      "needs_background": "light"
     },
     "output_type": "display_data"
    }
   ],
   "source": [
    "installs.pertanyaan_a_plot(max(installs.data_col), 100, save=False, log_scale=False)"
   ]
  },
  {
   "cell_type": "markdown",
   "metadata": {},
   "source": [
    "### Pertanyaan Diskusi B"
   ]
  },
  {
   "cell_type": "code",
   "execution_count": 29,
   "metadata": {
    "id": "9ACRuH1rcc6I"
   },
   "outputs": [
    {
     "name": "stdout",
     "output_type": "stream",
     "text": [
      "80678661 - 35971961\n",
      "80678661 - 0.73 * 44706700\n",
      "1 0    80678661\n",
      "Name: total ratings, dtype: int64\n",
      "48042770.0\n"
     ]
    }
   ],
   "source": [
    "total_ratings.pertanyaan_b()"
   ]
  },
  {
   "cell_type": "markdown",
   "metadata": {},
   "source": [
    "### Pertanyaan Diskusi C"
   ]
  },
  {
   "cell_type": "code",
   "execution_count": 30,
   "metadata": {},
   "outputs": [],
   "source": [
    "data_final = data.sort_values(by='final game score', ascending=False)"
   ]
  },
  {
   "cell_type": "code",
   "execution_count": 31,
   "metadata": {},
   "outputs": [
    {
     "data": {
      "text/html": [
       "<div>\n",
       "<style scoped>\n",
       "    .dataframe tbody tr th:only-of-type {\n",
       "        vertical-align: middle;\n",
       "    }\n",
       "\n",
       "    .dataframe tbody tr th {\n",
       "        vertical-align: top;\n",
       "    }\n",
       "\n",
       "    .dataframe thead th {\n",
       "        text-align: right;\n",
       "    }\n",
       "</style>\n",
       "<table border=\"1\" class=\"dataframe\">\n",
       "  <thead>\n",
       "    <tr style=\"text-align: right;\">\n",
       "      <th></th>\n",
       "      <th>rank</th>\n",
       "      <th>title</th>\n",
       "      <th>total ratings</th>\n",
       "      <th>installs</th>\n",
       "      <th>5 star ratings</th>\n",
       "      <th>4 star ratings</th>\n",
       "      <th>2 star ratings</th>\n",
       "      <th>1 star ratings</th>\n",
       "      <th>great</th>\n",
       "      <th>poor</th>\n",
       "      <th>int installs</th>\n",
       "      <th>rating index</th>\n",
       "      <th>total ratings and installs index</th>\n",
       "      <th>final game score</th>\n",
       "    </tr>\n",
       "  </thead>\n",
       "  <tbody>\n",
       "    <tr>\n",
       "      <th>622</th>\n",
       "      <td>1</td>\n",
       "      <td>Candy Crush Saga</td>\n",
       "      <td>30859251</td>\n",
       "      <td>1000.0 M</td>\n",
       "      <td>23521533</td>\n",
       "      <td>4128497</td>\n",
       "      <td>457810</td>\n",
       "      <td>1266557</td>\n",
       "      <td>27650030</td>\n",
       "      <td>1724367</td>\n",
       "      <td>1000000000</td>\n",
       "      <td>16.034887</td>\n",
       "      <td>30859251000000000</td>\n",
       "      <td>4.948246e+17</td>\n",
       "    </tr>\n",
       "    <tr>\n",
       "      <th>200</th>\n",
       "      <td>1</td>\n",
       "      <td>Subway Surfers</td>\n",
       "      <td>35305263</td>\n",
       "      <td>1000.0 M</td>\n",
       "      <td>26840330</td>\n",
       "      <td>3377645</td>\n",
       "      <td>801027</td>\n",
       "      <td>2667798</td>\n",
       "      <td>30217975</td>\n",
       "      <td>3468825</td>\n",
       "      <td>1000000000</td>\n",
       "      <td>8.711300</td>\n",
       "      <td>35305263000000000</td>\n",
       "      <td>3.075547e+17</td>\n",
       "    </tr>\n",
       "    <tr>\n",
       "      <th>1424</th>\n",
       "      <td>1</td>\n",
       "      <td>Clash of Clans</td>\n",
       "      <td>55170976</td>\n",
       "      <td>500.0 M</td>\n",
       "      <td>42736445</td>\n",
       "      <td>5397273</td>\n",
       "      <td>978099</td>\n",
       "      <td>3773793</td>\n",
       "      <td>48133718</td>\n",
       "      <td>4751892</td>\n",
       "      <td>500000000</td>\n",
       "      <td>10.129380</td>\n",
       "      <td>27585488000000000</td>\n",
       "      <td>2.794239e+17</td>\n",
       "    </tr>\n",
       "    <tr>\n",
       "      <th>0</th>\n",
       "      <td>1</td>\n",
       "      <td>Garena Free Fire - The Cobra</td>\n",
       "      <td>80678661</td>\n",
       "      <td>500.0 M</td>\n",
       "      <td>61935712</td>\n",
       "      <td>4478738</td>\n",
       "      <td>1814999</td>\n",
       "      <td>9654037</td>\n",
       "      <td>66414450</td>\n",
       "      <td>11469036</td>\n",
       "      <td>500000000</td>\n",
       "      <td>5.790761</td>\n",
       "      <td>40339330500000000</td>\n",
       "      <td>2.335954e+17</td>\n",
       "    </tr>\n",
       "    <tr>\n",
       "      <th>623</th>\n",
       "      <td>2</td>\n",
       "      <td>My Talking Tom</td>\n",
       "      <td>16715691</td>\n",
       "      <td>500.0 M</td>\n",
       "      <td>12245585</td>\n",
       "      <td>1517427</td>\n",
       "      <td>445084</td>\n",
       "      <td>1661606</td>\n",
       "      <td>13763012</td>\n",
       "      <td>2106690</td>\n",
       "      <td>500000000</td>\n",
       "      <td>6.533003</td>\n",
       "      <td>8357845500000000</td>\n",
       "      <td>5.460183e+16</td>\n",
       "    </tr>\n",
       "  </tbody>\n",
       "</table>\n",
       "</div>"
      ],
      "text/plain": [
       "      rank                         title  total ratings  installs  \\\n",
       "622      1              Candy Crush Saga       30859251  1000.0 M   \n",
       "200      1                Subway Surfers       35305263  1000.0 M   \n",
       "1424     1                Clash of Clans       55170976   500.0 M   \n",
       "0        1  Garena Free Fire - The Cobra       80678661   500.0 M   \n",
       "623      2                My Talking Tom       16715691   500.0 M   \n",
       "\n",
       "      5 star ratings  4 star ratings  2 star ratings  1 star ratings  \\\n",
       "622         23521533         4128497          457810         1266557   \n",
       "200         26840330         3377645          801027         2667798   \n",
       "1424        42736445         5397273          978099         3773793   \n",
       "0           61935712         4478738         1814999         9654037   \n",
       "623         12245585         1517427          445084         1661606   \n",
       "\n",
       "         great      poor  int installs  rating index  \\\n",
       "622   27650030   1724367    1000000000     16.034887   \n",
       "200   30217975   3468825    1000000000      8.711300   \n",
       "1424  48133718   4751892     500000000     10.129380   \n",
       "0     66414450  11469036     500000000      5.790761   \n",
       "623   13763012   2106690     500000000      6.533003   \n",
       "\n",
       "      total ratings and installs index  final game score  \n",
       "622                  30859251000000000      4.948246e+17  \n",
       "200                  35305263000000000      3.075547e+17  \n",
       "1424                 27585488000000000      2.794239e+17  \n",
       "0                    40339330500000000      2.335954e+17  \n",
       "623                   8357845500000000      5.460183e+16  "
      ]
     },
     "execution_count": 31,
     "metadata": {},
     "output_type": "execute_result"
    }
   ],
   "source": [
    "data_final.head()"
   ]
  },
  {
   "cell_type": "code",
   "execution_count": null,
   "metadata": {},
   "outputs": [],
   "source": []
  },
  {
   "cell_type": "code",
   "execution_count": null,
   "metadata": {},
   "outputs": [],
   "source": []
  }
 ],
 "metadata": {
  "colab": {
   "collapsed_sections": [],
   "name": "proyek1b_kel2_main.ipynb",
   "provenance": [],
   "toc_visible": true
  },
  "kernelspec": {
   "display_name": "Python 3",
   "language": "python",
   "name": "python3"
  },
  "language_info": {
   "codemirror_mode": {
    "name": "ipython",
    "version": 3
   },
   "file_extension": ".py",
   "mimetype": "text/x-python",
   "name": "python",
   "nbconvert_exporter": "python",
   "pygments_lexer": "ipython3",
   "version": "3.9.0"
  }
 },
 "nbformat": 4,
 "nbformat_minor": 4
}
